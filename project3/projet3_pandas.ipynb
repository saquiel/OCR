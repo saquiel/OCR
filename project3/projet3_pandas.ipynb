{
 "cells": [
  {
   "cell_type": "markdown",
   "metadata": {},
   "source": [
    "# Projet 3: étude de santé publique"
   ]
  },
  {
   "cell_type": "markdown",
   "metadata": {},
   "source": [
    "Par Benoit PONT"
   ]
  },
  {
   "cell_type": "markdown",
   "metadata": {},
   "source": [
    "Script écrit sur VScode puis converti sur Jupyter pour confort de lecture."
   ]
  },
  {
   "cell_type": "markdown",
   "metadata": {},
   "source": [
    "Afin de permettre au scipt de fonctionner sur un autre terminal ,il est nécessaire de modifier les chemin de lecture des fichiers csv."
   ]
  },
  {
   "cell_type": "code",
   "execution_count": 2,
   "metadata": {},
   "outputs": [],
   "source": [
    "import pandas as pd\n",
    "import numpy as np\n",
    "import os"
   ]
  },
  {
   "cell_type": "markdown",
   "metadata": {},
   "source": [
    "### Chargement des fichiers csv"
   ]
  },
  {
   "cell_type": "markdown",
   "metadata": {},
   "source": [
    "Convertir les fichiers csv => DataFrame pandas.\n",
    "Selectionne les colonnes nécessaires\n",
    "\n",
    "def CsvToPandas (path_to_csv, input_col):\n",
    "    ''' load csv to a pandas data frame:\n",
    "        input:  path to csv file\n",
    "                column to extract\n",
    "        output: pandas data frame'''\n",
    "    try:\n",
    "        output_df = pd.read_csv(path_to_csv, usecols=input_col)\n",
    "    except FileNotFoundError:\n",
    "        return print(\"file not found, input the path to the csv file\")\n",
    "    return output_df"
   ]
  },
  {
   "cell_type": "code",
   "execution_count": null,
   "metadata": {},
   "outputs": [],
   "source": [
    "df_population = CsvToPandas(\"python/oc_data_analyst/project3/data/fr_population.csv\", [\"Zone\", \"Valeur\"])\n",
    "df_sous_alim = CsvToPandas(\"python/oc_data_analyst/project3/data/fr_sousalimentation.csv\", [\"Zone\", \"Année\", \"Valeur\"])\n",
    "df_animaux = CsvToPandas(\"python/oc_data_analyst/project3/data/fr_animaux.csv\", [\"Zone\", \"Élément\", \"Produit\", \"Valeur\"])\n",
    "df_cereales = CsvToPandas(\"python/oc_data_analyst/project3/data/fr_céréales.csv\", [\"Produit\"])\n",
    "df_vegetaux = CsvToPandas(\"python/oc_data_analyst/project3/data/fr_vegetaux.csv\", [\"Zone\", \"Élément\", \"Produit\", \"Valeur\"])\n",
    "# le parse des fichiers est réalisé en tête de script afin de facilité, si nécessaire, \n",
    "# une optimisation (via concurency: lib threading)"
   ]
  },
  {
   "cell_type": "markdown",
   "metadata": {},
   "source": [
    "### Nettoyage des DF et optimisation"
   ]
  },
  {
   "cell_type": "code",
   "execution_count": 58,
   "metadata": {},
   "outputs": [],
   "source": [
    "# Preparation dataframe disponibilité: df_dispo\n",
    "# concatenation df animaux et vegetaux\n",
    "df_dispo = pd.concat([df_animaux, df_vegetaux], ignore_index=True)\n",
    "\n",
    "# suppression des données inutiles\n",
    "index_delete = df_dispo[df_dispo[\"Élément\"].isin([\"Variation de stock\"])].index\n",
    "df_dispo.drop(index_delete, inplace=True)\n",
    "# unstack Element en dispo Kcal + Dispo prot\n",
    "df_dispo = df_dispo.pivot_table(index=[\"Zone\", \"Produit\"], columns=\"Élément\", values=\"Valeur\")\n",
    "\n",
    "# merge table animaux et population sur pivots Zone produit:\n",
    "df_population.rename(columns={'Valeur':'Population'}, inplace=True) # avoid double column name\n",
    "df_dispo.reset_index(level=[\"Zone\", \"Produit\"], inplace=True) # reset index to avoid data killed by merge\n",
    "df_dispo = pd.merge(df_dispo, df_population, on=\"Zone\", how=\"left\")"
   ]
  },
  {
   "cell_type": "markdown",
   "metadata": {},
   "source": [
    "Note: Les valeurs sont converties en entier (optimisation complexité algo)."
   ]
  },
  {
   "cell_type": "code",
   "execution_count": 59,
   "metadata": {},
   "outputs": [],
   "source": [
    "# DF dispo\n",
    "\n",
    "# fill no value = 0\n",
    "df_dispo.fillna(0, inplace=True)\n",
    "\n",
    "# dispo total (Kton) => Kg\n",
    "df_dispo[\"Nourriture\"]=df_dispo[\"Nourriture\"].apply(lambda x: x*1000000).astype(int)\n",
    "df_dispo.rename(columns={'Nourriture':'dispo alim (kg/an)'}, inplace=True)\n",
    "\n",
    "# dispo interieur total (Kton) => Kg\n",
    "df_dispo[\"Disponibilité intérieure\"]=df_dispo[\"Disponibilité intérieure\"].apply(lambda x: x*1000000).astype(int)\n",
    "df_dispo.rename(columns={'Disponibilité intérieure':'dispo int (kg/an)'}, inplace=True)\n",
    "\n",
    "# Autres utilisations (non alimentaire) (Kton) => Kg\n",
    "df_dispo[\"Autres utilisations (non alimentaire)\"]=df_dispo[\"Autres utilisations (non alimentaire)\"].apply(lambda x: x*1000000).astype(int)\n",
    "df_dispo.rename(columns={'Autres utilisations (non alimentaire)':'autre utilisation (kg/an)'}, inplace=True)\n",
    "\n",
    "# pertes (Kton) => Kg\n",
    "df_dispo[\"Pertes\"]=df_dispo[\"Pertes\"].apply(lambda x: x*1000000).astype(int)\n",
    "df_dispo.rename(columns={'Pertes':'Pertes (kg/an)'}, inplace=True)\n",
    "\n",
    "# Aliments pour animaux (Kton) => Kg\n",
    "df_dispo[\"Aliments pour animaux\"]=df_dispo[\"Aliments pour animaux\"].apply(lambda x: x*1000000).astype(int)\n",
    "df_dispo.rename(columns={'Aliments pour animaux':'alim animal (kg/an)'}, inplace=True)\n",
    "\n",
    "# population to integer *1000\n",
    "df_dispo[\"Population\"]=df_dispo[\"Population\"].apply(lambda x: x*1000).astype(int)\n",
    "\n",
    "# dispo (Kcal/jour) => (kcal/an)    *360\n",
    "df_dispo[\"Disponibilité alimentaire (Kcal/personne/jour)\"]=df_dispo[\"Disponibilité alimentaire (Kcal/personne/jour)\"].apply(lambda x: x*360).astype(int)\n",
    "df_dispo.rename(columns={'Disponibilité alimentaire (Kcal/personne/jour)':'Dispo alim (Kcal/pers/an)'}, inplace=True)\n",
    "\n",
    "# dispo_prot (g/jour) => (mg/an)    *360000\n",
    "df_dispo[\"Disponibilité de protéines en quantité (g/personne/jour)\"]=df_dispo[\"Disponibilité de protéines en quantité (g/personne/jour)\"].apply(lambda x: x*360000).astype(int)\n",
    "df_dispo.rename(columns={'Disponibilité de protéines en quantité (g/personne/jour)':'Dispo prot (mg/pers/an)'}, inplace=True)\n"
   ]
  },
  {
   "cell_type": "code",
   "execution_count": 60,
   "metadata": {},
   "outputs": [],
   "source": [
    "# DF population sous nutrition\n",
    "\n",
    "# selection des valeur de 2013\n",
    "# nettoyage\n",
    "index_delete = df_sous_alim[~df_sous_alim[\"Année\"].isin([\"2012-2014\"])].index\n",
    "df_sous_alim.drop(index_delete, inplace=True)\n",
    "# population en entier *1000000 (unité humain)\n",
    "df_sous_alim[\"Valeur\"] =  pd.to_numeric(df_sous_alim[\"Valeur\"], errors='coerce').fillna(0).astype(np.float)\n",
    "df_sous_alim[\"Valeur\"]=df_sous_alim[\"Valeur\"].apply(lambda x: x*1000000).astype(int)\n"
   ]
  },
  {
   "cell_type": "code",
   "execution_count": 61,
   "metadata": {},
   "outputs": [],
   "source": [
    "# Nettoyage list des vegetaux\n",
    "df_list_vegetaux = df_list_vegetaux.drop_duplicates()"
   ]
  },
  {
   "cell_type": "markdown",
   "metadata": {},
   "source": [
    "### Question: 1 Calculez le nombre total d’humains sur la planète"
   ]
  },
  {
   "cell_type": "code",
   "execution_count": 62,
   "metadata": {},
   "outputs": [
    {
     "name": "stdout",
     "output_type": "stream",
     "text": [
      "Q1/ total humain: 7020656000\n"
     ]
    }
   ],
   "source": [
    "# Suppression des valeurs de population dupliquées en Chine\n",
    "df_population = df_population.drop([34,35,36])\n",
    "nbx_humain = df_population[\"Population\"].sum()*1000\n",
    "print(f\"Q1/ total humain: {nbx_humain}\")"
   ]
  },
  {
   "cell_type": "markdown",
   "metadata": {},
   "source": [
    "### Question 3 : Calculez (pour chaque pays et chaque produit) la disponibilité alimentaire en kcal => (Kcal/pers/an)*Population"
   ]
  },
  {
   "cell_type": "code",
   "execution_count": 66,
   "metadata": {},
   "outputs": [],
   "source": [
    "df_dispo[\"Dispo tot (Kcal/an)\"] = (df_dispo['Dispo alim (Kcal/pers/an)']*df_dispo['Population']).astype(int)"
   ]
  },
  {
   "cell_type": "markdown",
   "metadata": {},
   "source": [
    "Suite question 3 : Calculez (pour chaque pays et chaque produit) la disponibilité alimentaire de protéines en kg:\n",
    "(mg/pers/an)*Population/1000000"
   ]
  },
  {
   "cell_type": "code",
   "execution_count": 68,
   "metadata": {},
   "outputs": [],
   "source": [
    "df_dispo[\"Dispo prot (Kg/an)\"] = (df_dispo['Dispo prot (mg/pers/an)']*df_dispo['Population']/1000000)"
   ]
  },
  {
   "cell_type": "markdown",
   "metadata": {},
   "source": [
    "### Question 4 : calculez pour chaque produit le ratio \"énergie/poids\" (kcal/kg) => Dispo tot (Kcal/an) / dispo alim (kg)"
   ]
  },
  {
   "cell_type": "code",
   "execution_count": 70,
   "metadata": {},
   "outputs": [],
   "source": [
    "# TODO Question 4 : calculez pour chaque produit le ratio \"énergie/poids\" (kcal/kg) => Dispo tot (Kcal/an) / dispo alim (kg)\n",
    "# note: remplace infinite et nan  pour division (=0): replace([np.inf, np.nan], 0)\n",
    "df_dispo[\"Energie/poids (kcal/kg)\"] = (df_dispo[\"Dispo tot (Kcal/an)\"] / df_dispo[\"dispo alim (kg/an)\"]).replace([np.inf, np.nan], 0).astype(int)\n",
    "# expected: egg: 1470 kcal/kg => ok\n",
    "\n",
    "# ***ratio \"prot/poids\" (Kg/kg) => Dispo tot (Kg/an) / dispo alim (kg)\n",
    "df_dispo[\"ratio proteine\"] = (df_dispo[\"Dispo prot (Kg/an)\"] / df_dispo[\"dispo alim (kg/an)\"]).replace([np.inf, np.nan], 0).round(4)\n"
   ]
  },
  {
   "cell_type": "markdown",
   "metadata": {},
   "source": [
    "### Question 5 : Citez 5 aliments parmi les 20 aliments les plus caloriques, en utilisant le ratio énergie/poids.\n"
   ]
  },
  {
   "cell_type": "code",
   "execution_count": 71,
   "metadata": {},
   "outputs": [
    {
     "name": "stdout",
     "output_type": "stream",
     "text": [
      "Q5/ 5 plus hauts produits en ratio kcal/kg:\n",
      "                          Energie/poids (kcal/kg)\n",
      "Produit                                          \n",
      "Huiles de Foie de Poisso              9846.000000\n",
      "Huile de Sésame                       9291.833333\n",
      "Huile de Son de Riz                   9270.000000\n",
      "Huiles de Poissons                    8880.000000\n",
      "Huile d'Olive                         8834.895349\n"
     ]
    }
   ],
   "source": [
    "# copie les colonnes nécessaire et supprime les 0\n",
    "df_maxcal = df_dispo[[\"Produit\", \"Energie/poids (kcal/kg)\"]].replace(0, np.NaN).copy()\n",
    "# calculate the mean (speed up: without sorting)\n",
    "df_maxcal = df_maxcal.groupby(\"Produit\", sort=False).mean()\n",
    "\n",
    "print(\"Q5/ 5 plus hauts produits en ratio kcal/kg:\")\n",
    "print(df_maxcal.nlargest(5, [\"Energie/poids (kcal/kg)\"]))"
   ]
  },
  {
   "cell_type": "markdown",
   "metadata": {},
   "source": [
    "### Question 6 : Calculez, pour les produits végétaux uniquement, la disponibilité intérieure mondiale exprimée en kcal."
   ]
  },
  {
   "cell_type": "code",
   "execution_count": 74,
   "metadata": {},
   "outputs": [
    {
     "name": "stdout",
     "output_type": "stream",
     "text": [
      "Q6/ disponibilité intérieure végétal mondiale 14838742808000000 kcal\n",
      "dispo mondial proteine: 362235019800 Kg\n"
     ]
    }
   ],
   "source": [
    "# selection les vegetaux\n",
    "index_delete = df_dispo[~df_dispo[\"Produit\"].isin(df_list_vegetaux[\"Produit\"])].index\n",
    "df_temp = df_dispo.drop(index_delete)\n",
    "# total dispo int (Kcal/an) = Dispo int (Kg/an) * Energie (Kcal/kg/an)\n",
    "tot_energie_vegetal = (df_temp[\"dispo int (kg/an)\"]*df_temp[\"Energie/poids (kcal/kg)\"]).sum()\n",
    "print(f\"Q6/ disponibilité intérieure végétal mondiale {tot_energie_vegetal} kcal\")\n",
    "\n",
    "# total dispo int (Kg/an) = Dispo int (Kg/an) * ratio_prot (prot/kg)\n",
    "tot_prot_vegetal = (df_temp[\"dispo int (kg/an)\"]*df_temp[\"ratio proteine\"]).sum().astype(int)\n",
    "print(f\"dispo mondial proteine: {tot_prot_vegetal} Kg\")"
   ]
  },
  {
   "cell_type": "markdown",
   "metadata": {},
   "source": [
    "### Question 7 : Combien d'humains pourraient être nourris si toute la disponibilité intérieure mondiale de produits végétaux était utilisée pour de la nourriture ?"
   ]
  },
  {
   "cell_type": "markdown",
   "metadata": {},
   "source": [
    "Note:\n",
    "besoin humain: 2200Kcal (EFSA)\n",
    "besoin humain: 0,8 g de protéines par kilo de poids et par jour (Vidal)\n",
    "poid moyen humain: 62Kg (BMC Public Health)\n",
    "besoin moyen protéines par personne par jour: 50g=0.05Kg"
   ]
  },
  {
   "cell_type": "code",
   "execution_count": 76,
   "metadata": {},
   "outputs": [
    {
     "name": "stdout",
     "output_type": "stream",
     "text": [
      "Q7/ total humain avec dispo calorique vegetale: 18479131765 humains\n"
     ]
    }
   ],
   "source": [
    "# nbx humain possible avec dispo Kcal\n",
    "total_humain = int(tot_energie_vegetal/(2200*365))\n",
    "print(f\"Q7/ total humain avec dispo calorique vegetale: {total_humain} humains\")"
   ]
  },
  {
   "cell_type": "code",
   "execution_count": 77,
   "metadata": {},
   "outputs": [
    {
     "name": "stdout",
     "output_type": "stream",
     "text": [
      "Q7/ total humain avec dispo proteine vegetale: 19848494235 humains\n"
     ]
    }
   ],
   "source": [
    "total_humain = int(tot_prot_vegetal/(0.05*365))\n",
    "print(f\"Q7/ total humain avec dispo proteine vegetale: {total_humain} humains\")"
   ]
  },
  {
   "cell_type": "markdown",
   "metadata": {},
   "source": [
    "### Question 8 : Combien d'humains pourraient être nourris si toute la disponibilité alimentaire en produits végétaux la nourriture végétale destinée aux animaux et les pertes de produits végétaux étaient utilisés pour de la nourriture ?"
   ]
  },
  {
   "cell_type": "code",
   "execution_count": 79,
   "metadata": {},
   "outputs": [
    {
     "name": "stdout",
     "output_type": "stream",
     "text": [
      "Q8/ disponibilité perte+animal 98207496600 Kg proteine\n",
      "Q8/ total humain avec perte+animal (proteine): 5381232690 humains\n"
     ]
    }
   ],
   "source": [
    "# total dispo animaux+pertes (Kcal/an) = ( (perte + animal(Kg/an) ) * Energie (Kcal/kg/an)\n",
    "tot_energie_perte_animal = ((df_temp[\"alim animal (kg/an)\"] + df_temp[\"Pertes (kg/an)\"]) * df_temp[\"Energie/poids (kcal/kg)\"]).sum()\n",
    "# nbx humain possible avec perte et alim animal (Kcal)\n",
    "total_humain = tot_energie_perte_animal/(2200*365)\n",
    "\n",
    "# total dispo animaux+pertes (Kcal/an) = (perte + animal) (Kg/an) * ratio_prot (prot/Kg)\n",
    "tot_energie_perte_animal = int(((df_temp[\"alim animal (kg/an)\"] + df_temp[\"Pertes (kg/an)\"]) * df_temp[\"ratio proteine\"]).sum())\n",
    "print(f\"Q8/ disponibilité perte+animal {tot_energie_perte_animal} Kg proteine\")\n",
    "\n",
    "total_humain = int(tot_energie_perte_animal/(0.05*365))\n",
    "print(f\"Q8/ total humain avec perte+animal (proteine): {total_humain} humains\")"
   ]
  },
  {
   "cell_type": "markdown",
   "metadata": {},
   "source": [
    "### Question 9 : Combien d'humains pourraient être nourris avec la disponibilité alimentaire mondiale (Kcal) + (proteine)"
   ]
  },
  {
   "cell_type": "code",
   "execution_count": 80,
   "metadata": {},
   "outputs": [
    {
     "name": "stdout",
     "output_type": "stream",
     "text": [
      "Q9/ total humain avec dispo mondiale: 20836080066 \n",
      "Q9/ total humain avec dispo mondiale: 25983311227 \n"
     ]
    }
   ],
   "source": [
    "# total dispo int (Kcal/an) = Dispo int (Kg/an) * Energie (Kcal/kg/an)\n",
    "tot_energie_dispo_int = (df_dispo[\"dispo int (kg/an)\"]*df_dispo[\"Energie/poids (kcal/kg)\"]).sum()\n",
    "# total dispo int (Kg/an) = Dispo int (Kg/an) * ratio_prot (prot/kg)\n",
    "tot_prot_dispo_int = (df_dispo[\"dispo int (kg/an)\"]*df_dispo[\"ratio proteine\"]).sum()\n",
    "# nbx humain possible disponibilite total (Kcal)\n",
    "total_humain = int(tot_energie_dispo_int/(2200*365))\n",
    "print(f\"Q9/ total humain avec dispo mondiale: {total_humain} \")\n",
    "# nbx humain possible avec disponibilite total proteine\n",
    "total_humain = int(tot_prot_dispo_int/(0.05*365))\n",
    "print(f\"Q9/ total humain avec dispo mondiale: {total_humain} \")"
   ]
  },
  {
   "cell_type": "markdown",
   "metadata": {},
   "source": [
    "### Question 10 : A partir des données téléchargées qui concernent la sous-nutrition, répondez à cette question : Quelle proportion de la population mondiale est considérée comme étant en sous-nutrition ?"
   ]
  },
  {
   "cell_type": "code",
   "execution_count": 82,
   "metadata": {},
   "outputs": [
    {
     "name": "stdout",
     "output_type": "stream",
     "text": [
      "Q10/ proportion de la population mondiale en sous-nutrition: 0.126\n"
     ]
    }
   ],
   "source": [
    "prop_ss_nut =  ((df_sous_alim[\"Valeur\"].sum()) / nbx_humain).round(decimals=3)\n",
    "print(f\"Q10/ proportion de la population mondiale en sous-nutrition: {prop_ss_nut}\")"
   ]
  },
  {
   "cell_type": "markdown",
   "metadata": {},
   "source": [
    "### Question 11 : En ne prenant en compte que les céréales destinées à l'alimentation (humaine et animale), quelle proportion (en termes de poids) est destinée à l'alimentation animale ?"
   ]
  },
  {
   "cell_type": "code",
   "execution_count": 84,
   "metadata": {},
   "outputs": [
    {
     "name": "stdout",
     "output_type": "stream",
     "text": [
      "Q11/ proportion alimentation animal/alimentation total: 0.463\n"
     ]
    }
   ],
   "source": [
    "# creation de la liste des cereales\n",
    "df_cereales.drop_duplicates(inplace=True)\n",
    "index_delete = df_vegetaux[~df_vegetaux[\"Produit\"].isin(df_cereales[\"Produit\"])].index\n",
    "df_vege_tmp = df_vegetaux.drop(index_delete)\n",
    "\n",
    "split_vegetaux = df_vege_tmp[\"Valeur\"].groupby(df_vege_tmp[\"Élément\"]).sum()\n",
    "# proportion alimentaiton animal = alim_animal / (alim_animal + alim_humain)\n",
    "prop_alim_animal = (split_vegetaux[\"Aliments pour animaux\"]/(split_vegetaux[\"Aliments pour animaux\"] + split_vegetaux[\"Nourriture\"])).round(decimals=3)\n",
    "print(f\"Q11/ proportion alimentation animal/alimentation total: {prop_alim_animal}\")\n"
   ]
  },
  {
   "cell_type": "markdown",
   "metadata": {},
   "source": [
    "### Question 12 : Donnez les 3 produits qui ont la plus grande valeur pour chacun des 2 ratios"
   ]
  },
  {
   "cell_type": "code",
   "execution_count": 86,
   "metadata": {},
   "outputs": [
    {
     "name": "stdout",
     "output_type": "stream",
     "text": [
      "QUESTION 12\n",
      "Plus grande valeur du ratio autre/int\n",
      "Produit\n",
      "Huile de Palme         2.0\n",
      "Manioc                 1.0\n",
      "Poissons Pelagiques    1.0\n",
      "Name: ratio autre/int, dtype: float64\n"
     ]
    }
   ],
   "source": [
    "# informations relatives aux pays dans lesquels la FAO recense des personnes en sous-nutrition.\n",
    "df_sous_alim.drop(df_sous_alim[df_sous_alim[\"Valeur\"] == 0].index, inplace=True)\n",
    "\n",
    "# garder les pays avec sous nutrition\n",
    "index_delete = df_dispo[~df_dispo[\"Zone\"].isin(df_sous_alim[\"Zone\"])].index\n",
    "df_dispo_ss_al = df_dispo.drop(index_delete)\n",
    "# Repérez les 15 produits les plus exportés par ce groupe de pays: Exportations - Quantité\n",
    "top_15 = df_dispo_ss_al[\"Exportations - Quantité\"].groupby(df_dispo_ss_al[\"Produit\"]).sum().nlargest(15)\n",
    "\n",
    "# filtrer les 15 produits\n",
    "index_delete = df_dispo[~df_dispo[\"Produit\"].isin(top_15.index)].index\n",
    "df_dispo_15 = df_dispo.drop(index_delete)\n",
    "df_dispo_15.drop(columns=[\"Dispo alim (Kcal/pers/an)\", \"Dispo prot (mg/pers/an)\",\"Disponibilité alimentaire en quantité (kg/personne/an)\",\"Disponibilité de matière grasse en quantité (g/personne/jour)\", \"Population\",\"Dispo tot (Kcal/an)\",\"Dispo prot (Kg/an)\",\"Energie/poids (kcal/kg)\",\"ratio proteine\"], inplace =True)\n",
    "# le ratio entre la quantité destinés aux \"Autres utilisations\" (Other uses) et la disponibilité intérieure.\n",
    "df_dispo_15[\"ratio autre/int\"] = (df_dispo_15[\"autre utilisation (kg/an)\"] / df_dispo[\"dispo int (kg/an)\"]).round(decimals=3)\n",
    "# le ratio entre la quantité destinée à la nourriture animale et la quantité destinée à la nourriture (animale + humaine)\n",
    "df_dispo_15[\"ratio animal/animal_humain\"] = (df_dispo_15[\"alim animal (kg/an)\"] / (df_dispo_15[\"alim animal (kg/an)\"] + df_dispo_15[\"dispo alim (kg/an)\"])).round(decimals=3)\n",
    "\n",
    "# Donnez les 3 produits qui on t la plus grande valeur pour chacun des 2 ratios (vous aurez donc 6 produits à citer)\n",
    "top_3_other = df_dispo_15[\"ratio autre/int\"].groupby(df_dispo_15[\"Produit\"]).max().to_frame()\n",
    "print(\"QUESTION 12\")\n",
    "print(\"Plus grande valeur du ratio autre/int\") # probleme avec la norvege + huile de palme \n",
    "print(top_3_other[\"ratio autre/int\"].nlargest(3))"
   ]
  },
  {
   "cell_type": "markdown",
   "metadata": {},
   "source": [
    "Note: artefact avec la norvege:\n",
    "Importations - Quantité: 18 /\n",
    "Exportations - Quantité: 9 /\n",
    "Autres utilisations (non alimentaire): 18\n",
    "incohérence"
   ]
  },
  {
   "cell_type": "code",
   "execution_count": 87,
   "metadata": {},
   "outputs": [
    {
     "name": "stdout",
     "output_type": "stream",
     "text": [
      "Plus grande valeur ration animal/total\n",
      "Produit\n",
      "Manioc                 1.0\n",
      "Maïs                   1.0\n",
      "Poissons Pelagiques    1.0\n",
      "Name: ratio animal/animal_humain, dtype: float64\n"
     ]
    }
   ],
   "source": [
    "top_3_animal = df_dispo_15[\"ratio animal/animal_humain\"].groupby(df_dispo_15[\"Produit\"]).max().to_frame()\n",
    "print(\"Plus grande valeur ration animal/total\")\n",
    "print(top_3_animal[\"ratio animal/animal_humain\"].nlargest(3))"
   ]
  },
  {
   "cell_type": "markdown",
   "metadata": {},
   "source": [
    "### Question 13 : Combien de tonnes de céréales pourraient être libérées si les USA diminuaient leur production de produits animaux de 10% ?"
   ]
  },
  {
   "cell_type": "code",
   "execution_count": 89,
   "metadata": {},
   "outputs": [
    {
     "name": "stdout",
     "output_type": "stream",
     "text": [
      "Q13/ 10% de la consomation animal de cereal aux usa: 14009 milliers de tonnes\n"
     ]
    }
   ],
   "source": [
    "# : selection cereales + USA + aliment_animaux\n",
    "index_delete = df_vegetaux[(~df_vegetaux[\"Produit\"].isin(df_cereales[\"Produit\"])) | (~df_vegetaux[\"Zone\"].isin([\"États-Unis d'Amérique\"])) | (~df_vegetaux[\"Élément\"].isin([\"Aliments pour animaux\"]))].index\n",
    "df_usa = df_vegetaux.drop(index_delete)\n",
    "# en millier de tonnes\n",
    "diminution_10 = int(df_usa[\"Valeur\"].sum()/10)\n",
    "print(f\"Q13/ 10% de la consomation animal de cereal aux usa: {diminution_10} milliers de tonnes\")\n"
   ]
  },
  {
   "cell_type": "markdown",
   "metadata": {},
   "source": [
    "### Question 14 : En Thaïlande, quelle proportion de manioc est exportée ? Quelle est la proportion de personnes en sous-nutrition?"
   ]
  },
  {
   "cell_type": "code",
   "execution_count": 91,
   "metadata": {},
   "outputs": [
    {
     "name": "stdout",
     "output_type": "stream",
     "text": [
      "Q14 Thailand: 25214 milliers de tonnes de manioc exportés\n",
      "Q14 Thailand: 5600000 personnes en sous nutrition\n"
     ]
    }
   ],
   "source": [
    "df_thai_export = df_vegetaux[(df_vegetaux[\"Zone\"]==\"Thaïlande\") & (df_vegetaux[\"Produit\"]==\"Manioc\") & (df_vegetaux[\"Élément\"]==\"Exportations - Quantité\")]\n",
    "thai_manioc_export = int(df_thai_export.iloc[0][\"Valeur\"])\n",
    "\n",
    "df_thai_ss_nut = df_sous_alim[(df_sous_alim[\"Zone\"]==\"Thaïlande\")]\n",
    "thai_ss_nut = df_thai_ss_nut.iloc[0][\"Valeur\"]\n",
    "print(f\"Q14 Thailand: {thai_manioc_export} milliers de tonnes de manioc exportés\")\n",
    "print(f\"Q14 Thailand: {thai_ss_nut} personnes en sous nutrition\")"
   ]
  },
  {
   "cell_type": "markdown",
   "metadata": {},
   "source": [
    "Note: après test de timing, il est intéressant d'utiliser la méthode df.query pour une quantité de ligne > 500000"
   ]
  },
  {
   "cell_type": "markdown",
   "metadata": {},
   "source": []
  },
  {
   "cell_type": "code",
   "execution_count": null,
   "metadata": {},
   "outputs": [],
   "source": []
  }
 ],
 "metadata": {
  "kernelspec": {
   "display_name": "Python 3",
   "language": "python",
   "name": "python3"
  },
  "language_info": {
   "codemirror_mode": {
    "name": "ipython",
    "version": 3
   },
   "file_extension": ".py",
   "mimetype": "text/x-python",
   "name": "python",
   "nbconvert_exporter": "python",
   "pygments_lexer": "ipython3",
   "version": "3.8.5"
  }
 },
 "nbformat": 4,
 "nbformat_minor": 4
}
